{
  "nbformat": 4,
  "nbformat_minor": 0,
  "metadata": {
    "colab": {
      "name": "Numpy",
      "provenance": [],
      "include_colab_link": true
    },
    "kernelspec": {
      "name": "python3",
      "display_name": "Python 3"
    },
    "language_info": {
      "name": "python"
    }
  },
  "cells": [
    {
      "cell_type": "markdown",
      "metadata": {
        "id": "view-in-github",
        "colab_type": "text"
      },
      "source": [
        "<a href=\"https://colab.research.google.com/github/AnaCristina1972/ProjetoOpenVC/blob/main/Numpy.ipynb\" target=\"_parent\"><img src=\"https://colab.research.google.com/assets/colab-badge.svg\" alt=\"Open In Colab\"/></a>"
      ]
    },
    {
      "cell_type": "code",
      "source": [
        "import numpy "
      ],
      "metadata": {
        "id": "zsgmQTM1vXFI"
      },
      "execution_count": null,
      "outputs": []
    },
    {
      "cell_type": "code",
      "source": [
        "lista=[1,2,3,4,5]\n",
        "x=numpy.array(lista)\n",
        "print(x)"
      ],
      "metadata": {
        "colab": {
          "base_uri": "https://localhost:8080/"
        },
        "id": "foQuIHgmv4ah",
        "outputId": "16b5c6d4-d6a0-443a-8106-1737ca036b26"
      },
      "execution_count": null,
      "outputs": [
        {
          "output_type": "stream",
          "name": "stdout",
          "text": [
            "[1 2 3 4 5]\n"
          ]
        }
      ]
    },
    {
      "cell_type": "code",
      "source": [
        "x=numpy.array([1,2,3,4,5])\n",
        "y=2\n",
        "print(x+y)"
      ],
      "metadata": {
        "colab": {
          "base_uri": "https://localhost:8080/"
        },
        "id": "G4uib9Mgxct-",
        "outputId": "d348d342-4c6c-4c3e-a1ad-86697cbb72a9"
      },
      "execution_count": null,
      "outputs": [
        {
          "output_type": "stream",
          "name": "stdout",
          "text": [
            "[3 4 5 6 7]\n"
          ]
        }
      ]
    },
    {
      "cell_type": "code",
      "source": [
        "print(x-y)"
      ],
      "metadata": {
        "colab": {
          "base_uri": "https://localhost:8080/"
        },
        "id": "I0cMYC33x_sI",
        "outputId": "ecc0be43-939a-4a84-8beb-fd116bf2d561"
      },
      "execution_count": null,
      "outputs": [
        {
          "output_type": "stream",
          "name": "stdout",
          "text": [
            "[-1  0  1  2  3]\n"
          ]
        }
      ]
    },
    {
      "cell_type": "code",
      "source": [
        "print(y-x)"
      ],
      "metadata": {
        "colab": {
          "base_uri": "https://localhost:8080/"
        },
        "id": "wpat4P2fyE2X",
        "outputId": "34259937-b14f-4d8d-f6a0-731970a9cb51"
      },
      "execution_count": null,
      "outputs": [
        {
          "output_type": "stream",
          "name": "stdout",
          "text": [
            "[ 1  0 -1 -2 -3]\n"
          ]
        }
      ]
    },
    {
      "cell_type": "code",
      "source": [
        "print(x*y)"
      ],
      "metadata": {
        "colab": {
          "base_uri": "https://localhost:8080/"
        },
        "id": "AXvDPP5TyJ8A",
        "outputId": "cd5381b0-34cc-414f-d865-b995c44cf50c"
      },
      "execution_count": null,
      "outputs": [
        {
          "output_type": "stream",
          "name": "stdout",
          "text": [
            "[ 2  4  6  8 10]\n"
          ]
        }
      ]
    },
    {
      "cell_type": "code",
      "source": [
        "print(x/y)"
      ],
      "metadata": {
        "colab": {
          "base_uri": "https://localhost:8080/"
        },
        "id": "wQX2asDfysQQ",
        "outputId": "e30459aa-8cff-4162-e63e-04df0dc1f7c8"
      },
      "execution_count": null,
      "outputs": [
        {
          "output_type": "stream",
          "name": "stdout",
          "text": [
            "[0.5 1.  1.5 2.  2.5]\n"
          ]
        }
      ]
    },
    {
      "cell_type": "code",
      "source": [
        "print(y/x)"
      ],
      "metadata": {
        "colab": {
          "base_uri": "https://localhost:8080/"
        },
        "id": "vv4pJo6NyyFB",
        "outputId": "3ed56201-d3cf-4abf-9289-089ba2869009"
      },
      "execution_count": null,
      "outputs": [
        {
          "output_type": "stream",
          "name": "stdout",
          "text": [
            "[2.         1.         0.66666667 0.5        0.4       ]\n"
          ]
        }
      ]
    },
    {
      "cell_type": "code",
      "source": [
        "x=numpy.array([1,2,3,4,5])\n",
        "y=numpy.array([6,7,8,9,10])\n",
        "print(x+y)\n",
        "print(x-y)\n",
        "print(x*y)\n",
        "print(x/y)\n",
        "print(y+x)\n",
        "print(y-x)\n",
        "print(y/x)\n",
        "print(y*x)"
      ],
      "metadata": {
        "colab": {
          "base_uri": "https://localhost:8080/"
        },
        "id": "C2utSQF4y3Wh",
        "outputId": "e2211030-b2a3-404f-a735-61b6560bd5ac"
      },
      "execution_count": null,
      "outputs": [
        {
          "output_type": "stream",
          "name": "stdout",
          "text": [
            "[ 7  9 11 13 15]\n",
            "[-5 -5 -5 -5 -5]\n",
            "[ 6 14 24 36 50]\n",
            "[0.16666667 0.28571429 0.375      0.44444444 0.5       ]\n",
            "[ 7  9 11 13 15]\n",
            "[5 5 5 5 5]\n",
            "[6.         3.5        2.66666667 2.25       2.        ]\n",
            "[ 6 14 24 36 50]\n"
          ]
        }
      ]
    },
    {
      "cell_type": "code",
      "source": [
        "z=numpy.sum(x)\n",
        "print(z)"
      ],
      "metadata": {
        "colab": {
          "base_uri": "https://localhost:8080/"
        },
        "id": "7RlFIMdzbWnN",
        "outputId": "717d66b1-71bc-46ae-e89f-f027db2327b0"
      },
      "execution_count": null,
      "outputs": [
        {
          "output_type": "stream",
          "name": "stdout",
          "text": [
            "15\n"
          ]
        }
      ]
    },
    {
      "cell_type": "code",
      "source": [
        "z=numpy.max(x)\n",
        "print(z)\n",
        "z=numpy.min(x)\n",
        "print(z)"
      ],
      "metadata": {
        "id": "DncZkScw9ETp",
        "outputId": "6db414b3-05a4-4371-a805-b107623efeeb",
        "colab": {
          "base_uri": "https://localhost:8080/"
        }
      },
      "execution_count": 8,
      "outputs": [
        {
          "output_type": "stream",
          "name": "stdout",
          "text": [
            "5\n",
            "1\n"
          ]
        }
      ]
    },
    {
      "cell_type": "markdown",
      "source": [
        "## Introdução ao Numpy\n"
      ],
      "metadata": {
        "id": "oOc9RfZYkup3"
      }
    },
    {
      "cell_type": "code",
      "source": [
        "x=numpy.random.randint(low=0,high=100,size=100)\n",
        "print(x)"
      ],
      "metadata": {
        "colab": {
          "base_uri": "https://localhost:8080/"
        },
        "id": "gEtC6eZ3k7Rh",
        "outputId": "32432459-b7ba-4f1d-a923-5cd0f68a6f89"
      },
      "execution_count": null,
      "outputs": [
        {
          "output_type": "stream",
          "name": "stdout",
          "text": [
            "[39 14 16 46 41  5 95 63 63 40 31 70 98 81 89 76  1 28 78 78  6  0 32 56\n",
            "  1 44 56 79 88 84 42 54 96 58 52 21 27 60 65 81 63  6 28 48 97 13 54 41\n",
            " 55 29 98 77 30 34 70  7 91 13 68 81 89 78 56 93 72 23 73 71 78 99 37  6\n",
            " 43 64 24 61  4 22 82 79 15 90 58 22 85 62 49 29 23 61  7 74 80 94 93 54\n",
            " 47  6 57 60]\n"
          ]
        }
      ]
    },
    {
      "cell_type": "markdown",
      "source": [
        "Media"
      ],
      "metadata": {
        "id": "ET244kzBlngX"
      }
    },
    {
      "cell_type": "code",
      "source": [
        "media=numpy.mean(x)\n",
        "print(media)"
      ],
      "metadata": {
        "colab": {
          "base_uri": "https://localhost:8080/"
        },
        "id": "6umL81HRlqpC",
        "outputId": "f27d8498-ddd9-41a8-ae73-1a89351f2e31"
      },
      "execution_count": null,
      "outputs": [
        {
          "output_type": "stream",
          "name": "stdout",
          "text": [
            "52.77\n"
          ]
        }
      ]
    },
    {
      "cell_type": "markdown",
      "source": [
        ""
      ],
      "metadata": {
        "id": "ElhVp-82nOy1"
      }
    },
    {
      "cell_type": "markdown",
      "source": [
        "Mediana"
      ],
      "metadata": {
        "id": "S_nGj6mQl6ge"
      }
    },
    {
      "cell_type": "code",
      "source": [
        "mediana=numpy.median(x)\n",
        "print(mediana)"
      ],
      "metadata": {
        "colab": {
          "base_uri": "https://localhost:8080/"
        },
        "id": "nJLr_YSpl2NJ",
        "outputId": "faaafd85-16db-4790-8562-aee8dda06068"
      },
      "execution_count": null,
      "outputs": [
        {
          "output_type": "stream",
          "name": "stdout",
          "text": [
            "56.0\n"
          ]
        }
      ]
    },
    {
      "cell_type": "markdown",
      "source": [
        "Percentis"
      ],
      "metadata": {
        "id": "-dpvcN03mJGl"
      }
    },
    {
      "cell_type": "code",
      "source": [
        "percentil = numpy.percentile(x, 15)\n",
        "print(percentil)"
      ],
      "metadata": {
        "colab": {
          "base_uri": "https://localhost:8080/"
        },
        "id": "6fQGHPqwmO9q",
        "outputId": "b9fad080-cd3a-4060-e88e-cb53d894d56c"
      },
      "execution_count": null,
      "outputs": [
        {
          "output_type": "stream",
          "name": "stdout",
          "text": [
            "15.85\n"
          ]
        }
      ]
    },
    {
      "cell_type": "markdown",
      "source": [
        "# Medidas de dispersão ou espalhamento\n"
      ],
      "metadata": {
        "id": "USQY_m1hmWv-"
      }
    },
    {
      "cell_type": "markdown",
      "source": [
        "###intervalo ou amplitude"
      ],
      "metadata": {
        "id": "1JE0kb1NnEGb"
      }
    },
    {
      "cell_type": "code",
      "source": [
        "valor_maximo = numpy.max(x)\n",
        "valor_minimo = numpy.min(x)\n",
        "intervalo = valor_maximo - valor_minimo\n",
        "print(intervalo)"
      ],
      "metadata": {
        "colab": {
          "base_uri": "https://localhost:8080/"
        },
        "id": "UiDZDsi1mL8Z",
        "outputId": "4ca23f0c-2307-4f2e-cdcd-b6a05b00c4b7"
      },
      "execution_count": null,
      "outputs": [
        {
          "output_type": "stream",
          "name": "stdout",
          "text": [
            "99\n"
          ]
        }
      ]
    },
    {
      "cell_type": "markdown",
      "source": [
        "###Variância e desvio-padrão"
      ],
      "metadata": {
        "id": "KuIqBdGunf2r"
      }
    },
    {
      "cell_type": "code",
      "source": [
        "media = numpy.mean(x)\n",
        "n = len(x)\n",
        "diferencas = x - media\n",
        "variancia = numpy.sum(diferencas * diferencas) / (n - 1)\n",
        "desvio_padrao = numpy.sqrt(variancia)\n",
        "\n",
        "print(variancia)\n",
        "print(desvio_padrao)"
      ],
      "metadata": {
        "colab": {
          "base_uri": "https://localhost:8080/"
        },
        "id": "87NKsTAwnuN9",
        "outputId": "2eb88c22-ac28-4712-8c21-18df87528e1c"
      },
      "execution_count": null,
      "outputs": [
        {
          "output_type": "stream",
          "name": "stdout",
          "text": [
            "835.6334343434344\n",
            "28.90732492541353\n"
          ]
        }
      ]
    },
    {
      "cell_type": "markdown",
      "source": [
        "###com ddof"
      ],
      "metadata": {
        "id": "d6fx3Sx2pbE0"
      }
    },
    {
      "cell_type": "code",
      "source": [
        "variancia = numpy.var(x, ddof=1)\n",
        "desvio_padrao = numpy.std(x, ddof=1)\n",
        "print(variancia)\n",
        "print(desvio_padrao)"
      ],
      "metadata": {
        "colab": {
          "base_uri": "https://localhost:8080/"
        },
        "id": "G0XBHyGoplDx",
        "outputId": "b25335a1-5ef4-4694-e01d-df0883d86849"
      },
      "execution_count": null,
      "outputs": [
        {
          "output_type": "stream",
          "name": "stdout",
          "text": [
            "835.6334343434344\n",
            "28.90732492541353\n"
          ]
        }
      ]
    }
  ]
}