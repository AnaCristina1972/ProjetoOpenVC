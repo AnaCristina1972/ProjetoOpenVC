{
  "nbformat": 4,
  "nbformat_minor": 0,
  "metadata": {
    "colab": {
      "name": "ExercioComDadosIris",
      "provenance": [],
      "authorship_tag": "ABX9TyNCqSjyRDNcDD3V8FjxvGYd",
      "include_colab_link": true
    },
    "kernelspec": {
      "name": "python3",
      "display_name": "Python 3"
    },
    "language_info": {
      "name": "python"
    }
  },
  "cells": [
    {
      "cell_type": "markdown",
      "metadata": {
        "id": "view-in-github",
        "colab_type": "text"
      },
      "source": [
        "<a href=\"https://colab.research.google.com/github/AnaCristina1972/ProjetoOpenVC/blob/main/ExercioComDadosIris.ipynb\" target=\"_parent\"><img src=\"https://colab.research.google.com/assets/colab-badge.svg\" alt=\"Open In Colab\"/></a>"
      ]
    },
    {
      "cell_type": "code",
      "execution_count": 6,
      "metadata": {
        "colab": {
          "base_uri": "https://localhost:8080/"
        },
        "id": "TdVaWB8zy1xZ",
        "outputId": "9850f4b5-888b-417d-8dfb-6038fec81ad5"
      },
      "outputs": [
        {
          "output_type": "stream",
          "name": "stdout",
          "text": [
            "   sepal.length  sepal.width  petal.length  petal.width variety\n",
            "0           5.1          3.5           1.4          0.2  Setosa\n",
            "1           4.9          3.0           1.4          0.2  Setosa\n",
            "2           4.7          3.2           1.3          0.2  Setosa\n",
            "3           4.6          3.1           1.5          0.2  Setosa\n",
            "4           5.0          3.6           1.4          0.2  Setosa\n",
            "5           5.4          3.9           1.7          0.4  Setosa\n",
            "6           4.6          3.4           1.4          0.3  Setosa\n",
            "7           5.0          3.4           1.5          0.2  Setosa\n",
            "8           4.4          2.9           1.4          0.2  Setosa\n",
            "9           4.9          3.1           1.5          0.1  Setosa\n"
          ]
        }
      ],
      "source": [
        "import pandas\n",
        "dados=pandas.read_csv('iris.csv')\n",
        "print(dados.head(10))"
      ]
    },
    {
      "cell_type": "markdown",
      "source": [
        "# Exercicio em cima da base de dados"
      ],
      "metadata": {
        "id": "fUIMViwzzuwW"
      }
    },
    {
      "cell_type": "markdown",
      "source": [
        ""
      ],
      "metadata": {
        "id": "nFKdJFOu02pO"
      }
    },
    {
      "cell_type": "code",
      "source": [
        "print(dados.mean)"
      ],
      "metadata": {
        "colab": {
          "base_uri": "https://localhost:8080/"
        },
        "id": "xlPydEdO03c9",
        "outputId": "7d88b55d-cacd-49c4-d72c-2b0a2c51ea94"
      },
      "execution_count": 10,
      "outputs": [
        {
          "output_type": "stream",
          "name": "stdout",
          "text": [
            "<bound method DataFrame.mean of      sepal.length  sepal.width  petal.length  petal.width    variety\n",
            "0             5.1          3.5           1.4          0.2     Setosa\n",
            "1             4.9          3.0           1.4          0.2     Setosa\n",
            "2             4.7          3.2           1.3          0.2     Setosa\n",
            "3             4.6          3.1           1.5          0.2     Setosa\n",
            "4             5.0          3.6           1.4          0.2     Setosa\n",
            "..            ...          ...           ...          ...        ...\n",
            "145           6.7          3.0           5.2          2.3  Virginica\n",
            "146           6.3          2.5           5.0          1.9  Virginica\n",
            "147           6.5          3.0           5.2          2.0  Virginica\n",
            "148           6.2          3.4           5.4          2.3  Virginica\n",
            "149           5.9          3.0           5.1          1.8  Virginica\n",
            "\n",
            "[150 rows x 5 columns]>\n"
          ]
        }
      ]
    },
    {
      "cell_type": "code",
      "source": [
        "print(dados.median)"
      ],
      "metadata": {
        "colab": {
          "base_uri": "https://localhost:8080/"
        },
        "id": "rTiRRJVj1vDM",
        "outputId": "5b05b9a1-123a-49bd-88d2-9dde8796fe1f"
      },
      "execution_count": 11,
      "outputs": [
        {
          "output_type": "stream",
          "name": "stdout",
          "text": [
            "<bound method DataFrame.median of      sepal.length  sepal.width  petal.length  petal.width    variety\n",
            "0             5.1          3.5           1.4          0.2     Setosa\n",
            "1             4.9          3.0           1.4          0.2     Setosa\n",
            "2             4.7          3.2           1.3          0.2     Setosa\n",
            "3             4.6          3.1           1.5          0.2     Setosa\n",
            "4             5.0          3.6           1.4          0.2     Setosa\n",
            "..            ...          ...           ...          ...        ...\n",
            "145           6.7          3.0           5.2          2.3  Virginica\n",
            "146           6.3          2.5           5.0          1.9  Virginica\n",
            "147           6.5          3.0           5.2          2.0  Virginica\n",
            "148           6.2          3.4           5.4          2.3  Virginica\n",
            "149           5.9          3.0           5.1          1.8  Virginica\n",
            "\n",
            "[150 rows x 5 columns]>\n"
          ]
        }
      ]
    },
    {
      "cell_type": "code",
      "source": [
        "print(dados.quantile(0.15))"
      ],
      "metadata": {
        "colab": {
          "base_uri": "https://localhost:8080/"
        },
        "id": "gcl3QBFX17m0",
        "outputId": "101a43d6-3e7f-47aa-e4c8-12d1ac583419"
      },
      "execution_count": 18,
      "outputs": [
        {
          "output_type": "stream",
          "name": "stdout",
          "text": [
            "sepal.length    5.0\n",
            "sepal.width     2.6\n",
            "petal.length    1.4\n",
            "petal.width     0.2\n",
            "Name: 0.15, dtype: float64\n"
          ]
        }
      ]
    },
    {
      "cell_type": "code",
      "source": [
        "print(dados.max(numeric_only=True)-dados.min(numeric_only=True))"
      ],
      "metadata": {
        "colab": {
          "base_uri": "https://localhost:8080/"
        },
        "id": "W6zsmSAg2Vou",
        "outputId": "36f53b7c-a6c5-499d-9b8a-5d8d5ef7e1d5"
      },
      "execution_count": 17,
      "outputs": [
        {
          "output_type": "stream",
          "name": "stdout",
          "text": [
            "sepal.length    3.6\n",
            "sepal.width     2.4\n",
            "petal.length    5.9\n",
            "petal.width     2.4\n",
            "dtype: float64\n"
          ]
        }
      ]
    },
    {
      "cell_type": "code",
      "source": [
        "print(dados.var())"
      ],
      "metadata": {
        "colab": {
          "base_uri": "https://localhost:8080/"
        },
        "id": "Tw_zpJ143UII",
        "outputId": "4c94805c-f138-4fd2-8362-89265931bc8b"
      },
      "execution_count": 20,
      "outputs": [
        {
          "output_type": "stream",
          "name": "stdout",
          "text": [
            "sepal.length    0.685694\n",
            "sepal.width     0.189979\n",
            "petal.length    3.116278\n",
            "petal.width     0.581006\n",
            "dtype: float64\n"
          ]
        }
      ]
    }
  ]
}